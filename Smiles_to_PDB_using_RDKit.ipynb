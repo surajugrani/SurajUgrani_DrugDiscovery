{
 "cells": [
  {
   "cell_type": "code",
   "execution_count": null,
   "id": "sixth-aurora",
   "metadata": {},
   "outputs": [],
   "source": [
    "import pandas as pd\n",
    "from rdkit import Chem\n",
    "from rdkit.Chem import AllChem\n",
    "\n",
    "# Create an empty list for successful molecules\n",
    "molecs = []\n",
    "# Create empty lists for errors\n",
    "errligs = []\n",
    "errmols = []\n",
    "\n",
    "# Iterate through the rows of the DataFrame\n",
    "for j, smiles in enumerate(df.iloc[:, 1], 1):\n",
    "    try:\n",
    "        # Convert SMILES string to an RDKit molecule\n",
    "        mol = Chem.MolFromSmiles(smiles)\n",
    "        if mol is None:\n",
    "            errligs.append(j)\n",
    "            print('Invalid SMILES:', j)\n",
    "            continue\n",
    "\n",
    "        # Add hydrogens, embed molecule, and optimize using MMFF94s\n",
    "        mol = Chem.AddHs(mol)\n",
    "        AllChem.EmbedMolecule(mol)\n",
    "        Chem.rdForceFieldHelpers.MMFFOptimizeMolecule(mol, mmffVariant='MMFF94s', maxIters=500)\n",
    "        \n",
    "        # Append the optimized molecule to the list\n",
    "        molecs.append(mol)\n",
    "        \n",
    "        # Save the molecule as a PDB file\n",
    "        Chem.rdmolfiles.MolToPDBFile(mol, f\"{j}_MMFF94s.pdb\")\n",
    "        \n",
    "        print(j, '- Done!')\n",
    "    except Exception as e:\n",
    "        errmols.append(j)\n",
    "        print('Error:', j, e)\n",
    "\n",
    "print(type(molecs[2]), len(molecs))"
   ]
  }
 ],
 "metadata": {
  "kernelspec": {
   "display_name": "Python 3",
   "language": "python",
   "name": "python3"
  },
  "language_info": {
   "codemirror_mode": {
    "name": "ipython",
    "version": 3
   },
   "file_extension": ".py",
   "mimetype": "text/x-python",
   "name": "python",
   "nbconvert_exporter": "python",
   "pygments_lexer": "ipython3",
   "version": "3.7.3"
  }
 },
 "nbformat": 4,
 "nbformat_minor": 5
}
