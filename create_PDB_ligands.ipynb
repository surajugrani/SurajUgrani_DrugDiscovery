{
 "cells": [
  {
   "cell_type": "code",
   "execution_count": 1,
   "metadata": {},
   "outputs": [
    {
     "name": "stderr",
     "output_type": "stream",
     "text": [
      "RDKit WARNING: [11:39:10] Enabling RDKit 2019.09.1 jupyter extensions\n"
     ]
    }
   ],
   "source": [
    "import pandas as pd\n",
    "import numpy as np\n",
    "from rdkit import Chem\n",
    "from rdkit.Chem import PandasTools\n",
    "from rdkit.Chem import AllChem"
   ]
  },
  {
   "cell_type": "code",
   "execution_count": 2,
   "metadata": {},
   "outputs": [],
   "source": [
    "df=pd.read_excel('subs_inhibitors_info_repeats-removed.xlsx')\n",
    "codes=df.iloc[:,0]\n",
    "smi=df.iloc[:,2]"
   ]
  },
  {
   "cell_type": "code",
   "execution_count": 3,
   "metadata": {},
   "outputs": [
    {
     "name": "stdout",
     "output_type": "stream",
     "text": [
      "<class 'rdkit.Chem.rdchem.Mol'> 1252\n"
     ]
    }
   ],
   "source": [
    "molecs=[]\n",
    "errligs=[]\n",
    "errmols=[]\n",
    "for i,j in zip(smi,codes):\n",
    "    m=Chem.MolFromSmiles(i)\n",
    "#    try:\n",
    "#        lig1=Chem.AddHs(m)\n",
    "#    except:\n",
    "#        errligs.append(j) \n",
    "    try:\n",
    "        #AllChem.EmbedMolecule(lig1)\n",
    "        #AllChem.UFFOptimizeMolecule(lig1, maxIters=20000, ignoreInterfragInteractions=False)\n",
    "    #Chem.rdForceFieldHelpers.MMFFSanitizeMolecule(lig1)\n",
    "        lig1 = m\n",
    "        lig1=Chem.AddHs(m)\n",
    "        AllChem.EmbedMolecule(lig1)\n",
    "        Chem.rdForceFieldHelpers.MMFFOptimizeMolecule(lig1,mmffVariant='UFF')\n",
    "        molecs.append(lig1)\n",
    "        Chem.rdmolfiles.MolToPDBFile(lig1, str(j)+\"_UFFwH.pdb\")\n",
    "    except:\n",
    "        errmols.append(j)\n",
    "print(type(molecs[2]),len(molecs))"
   ]
  },
  {
   "cell_type": "code",
   "execution_count": 3,
   "metadata": {
    "collapsed": true
   },
   "outputs": [
    {
     "name": "stdout",
     "output_type": "stream",
     "text": [
      "91758390\n",
      "46862685\n",
      "132260\n",
      "57358476\n",
      "25092381\n",
      "101240833\n",
      "6451117\n",
      "16138722\n",
      "11686894\n",
      "129850672\n",
      "44253976\n",
      "134897\n",
      "146136\n",
      "146956\n",
      "16202213\n",
      "126532\n",
      "25077438\n",
      "25080990\n",
      "91935152\n",
      "9960660\n",
      "444184\n",
      "16132134\n",
      "53362096\n",
      "<class 'rdkit.Chem.rdchem.Mol'> 1252\n"
     ]
    }
   ],
   "source": [
    "xxxxxxxxxxxxxxxxxxxx\n",
    "molecs=[]\n",
    "errligs=[]\n",
    "errmols=[]\n",
    "for i,j in zip(smi,codes):\n",
    "    m=Chem.MolFromSmiles(i)\n",
    "#    try:\n",
    "#        lig1=Chem.AddHs(m)\n",
    "#    except:\n",
    "#        errligs.append(j) \n",
    "    try:\n",
    "        #AllChem.EmbedMolecule(lig1)\n",
    "        #AllChem.UFFOptimizeMolecule(lig1, maxIters=20000, ignoreInterfragInteractions=False)\n",
    "    #Chem.rdForceFieldHelpers.MMFFSanitizeMolecule(lig1)\n",
    "        lig1 = m\n",
    "        lig1=Chem.AddHs(m)\n",
    "        AllChem.EmbedMolecule(lig1)\n",
    "        Chem.rdForceFieldHelpers.MMFFOptimizeMolecule(lig1,mmffVariant='MMFF')\n",
    "        molecs.append(lig1)\n",
    "        Chem.rdmolfiles.MolToPDBFile(lig1, \"MMFFwH_\"+str(j)+\".pdb\")\n",
    "    except:\n",
    "        print(j)\n",
    "        errmols.append(j)\n",
    "print(type(molecs[2]),len(molecs))"
   ]
  },
  {
   "cell_type": "code",
   "execution_count": 4,
   "metadata": {},
   "outputs": [
    {
     "name": "stdout",
     "output_type": "stream",
     "text": [
      "23\n"
     ]
    }
   ],
   "source": [
    "print(len(errmols))"
   ]
  },
  {
   "cell_type": "code",
   "execution_count": 5,
   "metadata": {},
   "outputs": [
    {
     "data": {
      "text/plain": [
       "[91758390,\n",
       " 46862685,\n",
       " 132260,\n",
       " 57358476,\n",
       " 25092381,\n",
       " 101240833,\n",
       " 6451117,\n",
       " 16138722,\n",
       " 11686894,\n",
       " 129850672,\n",
       " 44253976,\n",
       " 134897,\n",
       " 146136,\n",
       " 146956,\n",
       " 16202213,\n",
       " 126532,\n",
       " 25077438,\n",
       " 25080990,\n",
       " 91935152,\n",
       " 9960660,\n",
       " 444184,\n",
       " 16132134,\n",
       " 53362096]"
      ]
     },
     "execution_count": 5,
     "metadata": {},
     "output_type": "execute_result"
    }
   ],
   "source": [
    "errmols"
   ]
  },
  {
   "cell_type": "code",
   "execution_count": null,
   "metadata": {},
   "outputs": [],
   "source": []
  },
  {
   "cell_type": "code",
   "execution_count": 6,
   "metadata": {},
   "outputs": [],
   "source": [
    "#import shutil\n",
    "#df1=pd.read_excel('only_unique-MMFF.xlsx')\n",
    "#filnms=df1.iloc[:,0]\n",
    "#for i in filnms:\n",
    "#    shutil.copy(i,'only_unique-MMFF')\n",
    "#print('done')    "
   ]
  },
  {
   "cell_type": "code",
   "execution_count": null,
   "metadata": {},
   "outputs": [],
   "source": []
  },
  {
   "cell_type": "code",
   "execution_count": null,
   "metadata": {},
   "outputs": [],
   "source": []
  }
 ],
 "metadata": {
  "kernelspec": {
   "display_name": "Python 3",
   "language": "python",
   "name": "python3"
  },
  "language_info": {
   "codemirror_mode": {
    "name": "ipython",
    "version": 3
   },
   "file_extension": ".py",
   "mimetype": "text/x-python",
   "name": "python",
   "nbconvert_exporter": "python",
   "pygments_lexer": "ipython3",
   "version": "3.7.3"
  }
 },
 "nbformat": 4,
 "nbformat_minor": 2
}
