{
  "cells": [
    {
      "cell_type": "code",
      "execution_count": null,
      "metadata": {
        "id": "9yP6H5OXNWbL"
      },
      "outputs": [],
      "source": [
        "def elim_high_corr(X_df, corr_thresh):\n",
        "  X_corr = X_df.corr()\n",
        "  highcorr = []\n",
        "  for i in X_df.columns:\n",
        "    for j in X_df.columns:\n",
        "      if i!=j and abs(X_corr[i][j])>corr_thresh:\n",
        "        if ((X_df[i]).std() <= (X_df[j]).std() and i not in highcorr):\n",
        "          highcorr += [i]\n",
        "        elif ((X_df[i]).std() > (X_df[j]).std() and j not in highcorr):\n",
        "          highcorr += [j]\n",
        "  print(\"columns to drop: \", len(highcorr),\"\\n\", highcorr)\n",
        "  print(\"reduced no. of columns: \", X_df.shape[1]-len(highcorr))\n",
        "  Xreduced = X_df.drop(highcorr,axis=1)\n",
        "  return [Xreduced, highcorr]"
      ]
    },
    {
      "cell_type": "code",
      "execution_count": null,
      "metadata": {
        "id": "weawk6DUG2u9"
      },
      "outputs": [],
      "source": [
        "import numpy as np\n",
        "import pandas as pd\n",
        "\n",
        "import matplotlib.pyplot as plt\n",
        "import matplotlib as mpl\n",
        "from sklearn.feature_selection import VarianceThreshold\n",
        "from sklearn.decomposition import PCA"
      ]
    },
    {
      "cell_type": "code",
      "execution_count": null,
      "metadata": {
        "id": "hqTKadcyG2u9"
      },
      "outputs": [],
      "source": [
        "DF00 = pd.read_excel('DF_1170x50.xlsx',index_col=0)\n",
        "\n",
        "print(DF00.shape)\n",
        "DF01 = DF00[(DF00['Molecular Weight'] < 1000) & (DF00['Molecular Weight'] > 100)]\n",
        "print(DF01.shape)\n",
        "DF02 = DF01[DF01['Hawkins_GBSA_Score']<0]\n",
        "print(DF02.shape)"
      ]
    },
    {
      "cell_type": "code",
      "execution_count": null,
      "metadata": {
        "id": "QORKB2TiG2u-"
      },
      "outputs": [],
      "source": [
        "y = DF02['Hawkins_GBSA_sa_energy']\n",
        "\n",
        "todrop = DF02.columns[-9:]\n",
        "X0 = DF02.drop(todrop,axis=1)\n",
        "\n",
        "vt = VarianceThreshold(0.01)\n",
        "X1 = pd.DataFrame(vt.fit_transform(X0), index=X0.index, columns=X0.columns[vt.get_support()])\n",
        "print(X1.shape)\n",
        "\n",
        "X2 = elim_high_corr(X1, 0.7)[0]"
      ]
    },
    {
      "cell_type": "code",
      "execution_count": null,
      "metadata": {
        "id": "10f--HSaG2u_"
      },
      "outputs": [],
      "source": [
        "hbpca1 = PCA(n_components=5)\n",
        "#hbpcafit1 = hbpca1.fit(X2)\n",
        "dfpca = pd.DataFrame(hbpca1.fit_transform(X2),columns=['PC1','PC2','PC3','PC4','PC5'], index=X2.index)\n",
        "#dfpca1 = pd.DataFrame(hbpcafit1.transform(X2), index=X2.index)"
      ]
    },
    {
      "cell_type": "code",
      "execution_count": null,
      "metadata": {
        "id": "dH5hUQsFIQwr"
      },
      "outputs": [],
      "source": [
        "exvr = (hbpca1.explained_variance_ratio_)\n",
        "print(exvr, exvr.sum())\n",
        "\n",
        "plt.figure(figsize=(8,6))\n",
        "plt.bar(dfpca.columns, exvr)\n",
        "#plt.grid()\n",
        "#plt.ylim(0,1)\n",
        "#plt.legend()"
      ]
    },
    {
      "cell_type": "code",
      "execution_count": null,
      "metadata": {
        "id": "cSB1q61zyCvM"
      },
      "outputs": [],
      "source": [
        "(exvr[:3]).sum(), exvr.sum()"
      ]
    },
    {
      "cell_type": "code",
      "execution_count": null,
      "metadata": {
        "id": "G0C5QYeoG8C5"
      },
      "outputs": [],
      "source": [
        "plt.figure(figsize=(12,8))\n",
        "plt.xticks(fontsize=16)\n",
        "plt.yticks(fontsize=16)\n",
        "plt.scatter(dfpca['PC1'], dfpca['PC2'], c=(y), alpha=0.5, cmap='hot', edgecolors='none', vmax=max(y), vmin=min(y))\n",
        "plt.tick_params(labelsize=16)\n",
        "plt.colorbar(label='Gsa')\n",
        "plt.grid()\n",
        "\n",
        "plt.xlabel('PC1',size=20)\n",
        "plt.ylabel('PC2',size=20)\n",
        "plt.savefig(\"PC2_vs_PC1.png\")\n",
        "plt.show()"
      ]
    },
    {
      "cell_type": "code",
      "execution_count": null,
      "metadata": {
        "id": "pHTwM74NIQ6J"
      },
      "outputs": [],
      "source": [
        "plt.figure(figsize=(12,8))\n",
        "plt.xticks(fontsize=16)\n",
        "plt.yticks(fontsize=16)\n",
        "plt.scatter(dfpca['PC1'], dfpca['PC3'], c=(y), alpha=0.5, cmap='cool', edgecolors='none', vmax=max(y), vmin=min(y))\n",
        "plt.colorbar()\n",
        "plt.grid()\n",
        "plt.xlabel('PC1',size=20)\n",
        "plt.ylabel('PC3',size=20)\n",
        "plt.savefig(\"PC3_vs_PC1.png\")\n",
        "plt.show()"
      ]
    },
    {
      "cell_type": "code",
      "execution_count": null,
      "metadata": {
        "id": "PRkOKYeIzLfW"
      },
      "outputs": [],
      "source": [
        "plt.figure(figsize=(12,8))\n",
        "plt.xticks(fontsize=16)\n",
        "plt.yticks(fontsize=16)\n",
        "plt.scatter(dfpca['PC2'], dfpca['PC3'], c=(y), alpha=0.5, cmap='bwr', edgecolors='none', vmax=max(y), vmin=min(y))\n",
        "plt.colorbar()\n",
        "plt.grid()\n",
        "plt.xlabel('PC2',size=20)\n",
        "plt.ylabel('PC3',size=20)\n",
        "plt.savefig(\"PC3_vs_PC2.png\")\n",
        "plt.show()"
      ]
    },
    {
      "cell_type": "code",
      "execution_count": null,
      "metadata": {
        "id": "LyR-TJfizXKZ"
      },
      "outputs": [],
      "source": [
        "pca_loadings_df = pd.DataFrame(hbpca1.components_, index=dfpca.columns, columns=X2.columns)\n",
        "pca_loadings_df.to_excel('pca_loadings_df.xlsx')"
      ]
    },
    {
      "cell_type": "code",
      "execution_count": null,
      "metadata": {
        "id": "1obZCODy1AFg"
      },
      "outputs": [],
      "source": [
        "pd.DataFrame(exvr).to_excel('Explained_variance_ratio_PC1-5.xlsx')"
      ]
    }
  ],
  "metadata": {
    "colab": {
      "provenance": []
    },
    "kernelspec": {
      "display_name": "Python 3",
      "language": "python",
      "name": "python3"
    },
    "language_info": {
      "codemirror_mode": {
        "name": "ipython",
        "version": 3
      },
      "file_extension": ".py",
      "mimetype": "text/x-python",
      "name": "python",
      "nbconvert_exporter": "python",
      "pygments_lexer": "ipython3",
      "version": "3.7.3"
    }
  },
  "nbformat": 4,
  "nbformat_minor": 0
}