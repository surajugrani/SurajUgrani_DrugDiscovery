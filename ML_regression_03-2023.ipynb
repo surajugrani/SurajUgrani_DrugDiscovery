{
  "cells": [
    {
      "cell_type": "code",
      "execution_count": null,
      "metadata": {
        "id": "QBVOhsNh65YJ"
      },
      "outputs": [],
      "source": [
        "import pandas as pd\n",
        "import numpy as np\n",
        "from sklearn.metrics import mean_squared_error, r2_score\n",
        "import numpy as np\n",
        "import scipy\n",
        "import matplotlib.pyplot as plt\n",
        "import matplotlib as mpl\n",
        "from matplotlib.pyplot import cm\n",
        "\n",
        "def Resanalysis(optreg,trnX,trny,tstX,tsty):    \n",
        "    otstpred=pd.Series(optreg.predict(tstX),dtype=float)\n",
        "    otrnpred=pd.Series(optreg.predict(trnX),dtype=float)\n",
        "    r2 = r2_score(tsty,otstpred) \n",
        "    pear = scipy.stats.pearsonr(tsty,otstpred)\n",
        "    rmser = (mean_squared_error(tsty,otstpred))**0.5\n",
        "    spmn = scipy.stats.spearmanr(tsty,otstpred)\n",
        "    return [r2,pear[0],rmser,spmn[0]] # rval causes error, so replaced with dummy number "
      ]
    },
    {
      "cell_type": "code",
      "execution_count": null,
      "metadata": {
        "id": "tl_dboY065YK"
      },
      "outputs": [],
      "source": [
        "import scipy\n",
        "from sklearn.model_selection import GridSearchCV\n",
        "\n",
        "def findbestesti(esti,parm,trnX,trny):\n",
        "    grisea=GridSearchCV(esti,parm,scoring='neg_root_mean_squared_error',cv=8)\n",
        "    modl=grisea.fit(trnX,trny)\n",
        "    print('training set R-pearson = ', scipy.stats.pearsonr(trny,modl.predict(trnX)))\n",
        "    return modl.best_estimator_"
      ]
    },
    {
      "cell_type": "code",
      "execution_count": null,
      "metadata": {
        "id": "sTWI-ba5zuAb"
      },
      "outputs": [],
      "source": [
        "def elim_high_corr(X_df, corr_thresh,y):\n",
        "  X_corr = X_df.corr()\n",
        "  highcorr = []\n",
        "  for i in X_df.columns:\n",
        "    for j in X_df.columns:\n",
        "      if i!=j and abs(X_corr[i][j])>corr_thresh:\n",
        "        if (X_df[i].std() <= X_df[j].std()) and i not in highcorr:\n",
        "          highcorr += [i]\n",
        "        elif (X_df[i].std() > X_df[j].std()) and j not in highcorr:\n",
        "          highcorr += [j]\n",
        "  print(\"columns to drop: \", len(highcorr),\"\\n\", highcorr)\n",
        "  print(\"reduced no. of columns: \", X_df.shape[1]-len(highcorr))\n",
        "  Xreduced = X_df.drop(highcorr,axis=1)\n",
        "  return [Xreduced, highcorr]"
      ]
    },
    {
      "cell_type": "code",
      "execution_count": null,
      "metadata": {
        "id": "HRe4pUV7MsY5"
      },
      "outputs": [],
      "source": [
        "def fill_pred_dict(dic, spl, nf, ytest, ypred):\n",
        "  dic['test_split-'+str(spl)+'_features-'+str(nf)] = np.array(y_test)\n",
        "  dic['pred_split-'+str(spl)+'_features-'+str(nf)] = np.array(ypred)\n",
        "  return dic"
      ]
    },
    {
      "cell_type": "code",
      "execution_count": null,
      "metadata": {
        "id": "1ulL5-_gAB1x"
      },
      "outputs": [],
      "source": [
        "def plotnsave(est, spl, nf, y_test, y_pred):\n",
        "  plt.figure(figsize=(10,10))\n",
        "  plt.scatter(y_test, y_pred)\n",
        "  plt.plot(np.linspace(-9,-2), np.linspace(-9,-2), c='black')\n",
        "  ttl = 'Split'+str(spl)+'_'+str(nf)+'Features_'+ est\n",
        "  plt.title(ttl)\n",
        "  plt.xlim(-9,-2)\n",
        "  plt.ylim(-9,-2)\n",
        "  plt.xlabel('y_test (kcal/mol)',size=20)\n",
        "  plt.ylabel('y_pred (kcal/mol)',size=20)\n",
        "  plt.savefig('Split'+str(spl)+'_Features'+str(nf)+'_'+est+'.png')"
      ]
    },
    {
      "cell_type": "code",
      "execution_count": null,
      "metadata": {
        "id": "kZTeat4T65YL"
      },
      "outputs": [],
      "source": [
        "import numpy as np\n",
        "import pandas as pd\n",
        "\n",
        "from sklearn.model_selection import GridSearchCV\n",
        "from sklearn.model_selection import cross_val_score\n",
        "from sklearn.ensemble import RandomForestRegressor\n",
        "from sklearn.ensemble import ExtraTreesRegressor\n",
        "from sklearn.ensemble import GradientBoostingRegressor\n",
        "from sklearn.svm import SVR\n",
        "from sklearn.neighbors import KNeighborsRegressor\n",
        "from sklearn.linear_model import LinearRegression\n",
        "from sklearn.linear_model import Lasso\n",
        "from sklearn.linear_model import ElasticNet\n",
        "from sklearn.kernel_ridge import KernelRidge\n",
        "import matplotlib.pyplot as plt\n",
        "from sklearn.feature_selection import SelectFromModel\n",
        "from sklearn.feature_selection import VarianceThreshold\n",
        "from sklearn.inspection import permutation_importance\n",
        "from sklearn.dummy import DummyRegressor"
      ]
    },
    {
      "cell_type": "code",
      "execution_count": null,
      "metadata": {
        "id": "pruc4rpt65YL"
      },
      "outputs": [],
      "source": [
        "DF00 = pd.read_excel('DF_1174X50_04-2023.xlsx',index_col=0)\n",
        "\n",
        "#remv = 16211131\n",
        "#DF00 = DF00.drop(index = remv)\n",
        "#print(DF00.shape)\n",
        "DF01 = DF00[DF00['Molecular Weight']<1000]\n",
        "#print(DF01.shape)\n",
        "DF02 = DF01[DF01['Molecular Weight']>100]\n",
        "#print(DF02.shape)\n",
        "DF03 = DF02[DF02['Hawkins_GBSA_Score']<0]\n",
        "print(DF03.shape)\n",
        "DF03.columns[-12:]"
      ]
    },
    {
      "cell_type": "code",
      "execution_count": null,
      "metadata": {
        "id": "GSkbt8Jn65YN"
      },
      "outputs": [],
      "source": [
        "from sklearn.preprocessing import RobustScaler as RS\n",
        "\n",
        "y = DF03['Hawkins_GBSA_sa_energy']\n",
        "\n",
        "todrop = DF03.columns[-9:]\n",
        "X0 = DF03.drop(todrop,axis=1)\n",
        "\n",
        "vt = VarianceThreshold(0.01)\n",
        "X1 = pd.DataFrame(vt.fit_transform(X0), index=X0.index, columns=X0.columns[vt.get_support()])\n",
        "print(X1.shape)\n",
        "\n",
        "X2 = elim_high_corr(X1, 0.7, y)[0]"
      ]
    },
    {
      "cell_type": "code",
      "execution_count": null,
      "metadata": {
        "id": "vattcno265YN"
      },
      "outputs": [],
      "source": [
        "numoffea = [2,4,6,8,10,12,X2.shape[1]]   #[10, X_std.shape[1]]     #[X_std.shape[1]]\n",
        "\n",
        "r2dfnam = []\n",
        "pdfnam = []\n",
        "rmdfnam = []\n",
        "rmsedfnam = []\n",
        "spmndfnam = []\n",
        "for nf in numoffea:\n",
        "    r = 'RF'+str(nf)\n",
        "    g = 'GBR'+str(nf)\n",
        "    s = 'SVR'+str(nf)\n",
        "    l = 'LR'+str(nf)\n",
        "    r2dfnam += [r, g, s, l]\n",
        "    pdfnam += [r, g, s, l] \n",
        "    rmsedfnam += [r, g, s, l]\n",
        "    spmndfnam += [r, g, s, l]\n",
        "print(pdfnam)\n",
        "\n",
        "spl_is = []\n",
        "spl_is += ['split_'+str(i) for i in range(10)]\n",
        "feaimpdf = pd.DataFrame(0, index=spl_is, columns=X2.columns)\n",
        "r2df = pd.DataFrame(index=spl_is, columns=r2dfnam)\n",
        "peardf = pd.DataFrame(index=spl_is, columns=pdfnam)\n",
        "rmsedf = pd.DataFrame(index=spl_is, columns=rmsedfnam)\n",
        "spmndf = pd.DataFrame(index=spl_is, columns=spmndfnam)"
      ]
    },
    {
      "cell_type": "code",
      "execution_count": null,
      "metadata": {
        "id": "M2t235JyMk3k"
      },
      "outputs": [],
      "source": [
        "lin_dict_pred = {}\n",
        "gbr_dict_pred = {}\n",
        "svr_dict_pred = {}\n",
        "rfr_dict_pred = {}"
      ]
    },
    {
      "cell_type": "code",
      "execution_count": null,
      "metadata": {
        "id": "oj4XHE7G65YO"
      },
      "outputs": [],
      "source": [
        "ntfs = [100,150,200,250]\n",
        "maxfeafs =['sqrt','log2','auto']\n",
        "minsmplffs = [1,3,5]\n",
        "parfs = {'max_features':maxfeafs, 'n_estimators':ntfs, 'min_samples_leaf':minsmplffs}\n",
        "\n",
        "ne = [100,200,300,400,500]\n",
        "minsmpleaf = [1,3,5]\n",
        "mxf =  ['sqrt','log2','auto']\n",
        "rfpar = {'n_estimators':ne, 'max_features':mxf, 'min_samples_leaf':minsmpleaf} \n",
        "\n",
        "gbrne = [100,150,200,250]\n",
        "gbrpar = {'max_features':mxf, 'n_estimators':gbrne, 'min_samples_leaf':minsmpleaf}\n",
        "\n",
        "c = np.logspace(-1,1,15)\n",
        "gam = ['scale','auto']\n",
        "ker = ['rbf']  \n",
        "svrpar = {'C':c, 'gamma':gam, 'kernel':ker}"
      ]
    },
    {
      "cell_type": "code",
      "execution_count": null,
      "metadata": {
        "id": "GJxX-r3q65YO"
      },
      "outputs": [],
      "source": [
        "##### Test-Train Split #####\n",
        "from sklearn.model_selection import train_test_split\n",
        "rnd = 17061991\n",
        "\n",
        "for spl in range(10):\n",
        "    print('\\n')\n",
        "    X_train, X_test, y_train, y_test = train_test_split(X2, y, test_size=0.2,random_state=rnd+(43210*spl))\n",
        "    print('Currently running Split ',spl)\n",
        "    \n",
        "    gbrfs = GradientBoostingRegressor(random_state=rnd+(54321*spl))\n",
        "    gscv = GridSearchCV(gbrfs, parfs, scoring='neg_root_mean_squared_error', cv=10)\n",
        "    gscvfit = gscv.fit(X_train,y_train)\n",
        "    bstest = gscvfit.best_estimator_\n",
        "    feaimp = bstest.feature_importances_\n",
        "\n",
        "    print(\"Best estimator for feature selection: \", bstest)\n",
        "    print(\"Best estim. Training Preasons R: \", scipy.stats.pearsonr(y_train,bstest.predict(X_train)))\n",
        "\n",
        "    feaimpdf.loc['split_'+str(spl)] = feaimp \n",
        "    sortfi = np.sort(feaimp)\n",
        "\n",
        "    for nf in numoffea:\n",
        "        print(\"\\n\\nNumber Of Features :\", nf)\n",
        "        topfea =  X2.columns[feaimp>=sortfi[-nf]]\n",
        "        \n",
        "        X_trn = X_train[topfea]\n",
        "        X_tst = X_test[topfea]\n",
        "        \n",
        "        linr = LinearRegression()\n",
        "        lrfit = linr.fit(X_trn,y_train)\n",
        "        lrr = Resanalysis(lrfit,X_trn,y_train,X_tst,y_test)\n",
        "        r2df.iloc[spl]['LR'+str(nf)] = lrr[0]\n",
        "        peardf.iloc[spl]['LR'+str(nf)] = lrr[1]\n",
        "        rmsedf.iloc[spl]['LR'+str(nf)] = lrr[2]\n",
        "        spmndf.iloc[spl]['LR'+str(nf)] = lrr[3]\n",
        "        lin_dict_pred = fill_pred_dict(lin_dict_pred, spl, nf, y_test, lrfit.predict(X_tst))\n",
        "        plotnsave('LR',spl,nf,y_test, lrfit.predict(X_tst))\n",
        "\n",
        "        svr = SVR()\n",
        "        optsvr = findbestesti(svr,svrpar,X_trn,y_train)\n",
        "        svrr = Resanalysis(optsvr,X_trn,y_train,X_tst,y_test)\n",
        "        r2df.iloc[spl]['SVR'+str(nf)] = svrr[0]\n",
        "        peardf.iloc[spl]['SVR'+str(nf)] = svrr[1]\n",
        "        rmsedf.iloc[spl]['SVR'+str(nf)] = svrr[2]\n",
        "        spmndf.iloc[spl]['SVR'+str(nf)] = svrr[3]\n",
        "        svr_dict_pred = fill_pred_dict(svr_dict_pred, spl, nf, y_test, optsvr.predict(X_tst))\n",
        "        plotnsave('SVR',spl,nf,y_test, optsvr.predict(X_tst))\n",
        "        \n",
        "        gbr = GradientBoostingRegressor(random_state=rnd+(65432*spl))\n",
        "        optgbr = findbestesti(gbr,gbrpar,X_trn,y_train)\n",
        "        print(optgbr)\n",
        "        gbrfr = Resanalysis(optgbr,X_trn,y_train,X_tst,y_test)\n",
        "        r2df.iloc[spl]['GBR'+str(nf)] = gbrfr[0]\n",
        "        peardf.iloc[spl]['GBR'+str(nf)] = gbrfr[1]\n",
        "        rmsedf.iloc[spl]['GBR'+str(nf)] = gbrfr[2]\n",
        "        spmndf.iloc[spl]['GBR'+str(nf)] = gbrfr[3]\n",
        "        gbr_dict_pred = fill_pred_dict(gbr_dict_pred, spl, nf, y_test, optgbr.predict(X_tst))\n",
        "        plotnsave('GBR',spl,nf,y_test, optgbr.predict(X_tst))\n",
        "\n",
        "        rfr = RandomForestRegressor(random_state= rnd+(76543*spl))\n",
        "        optrfr = findbestesti(rfr,rfpar,X_trn,y_train)\n",
        "        print(optrfr)\n",
        "        rfrr = Resanalysis(optrfr,X_trn,y_train,X_tst,y_test)\n",
        "        r2df.iloc[spl]['RF'+str(nf)] = rfrr[0]\n",
        "        peardf.iloc[spl]['RF'+str(nf)] = rfrr[1]\n",
        "        rmsedf.iloc[spl]['RF'+str(nf)] = rfrr[2]\n",
        "        spmndf.iloc[spl]['RF'+str(nf)] = rfrr[3]\n",
        "        rfr_dict_pred = fill_pred_dict(rfr_dict_pred, spl, nf, y_test, optrfr.predict(X_tst))\n",
        "        plotnsave('RFR',spl,nf,y_test, optrfr.predict(X_tst))\n",
        "\n",
        "    print(peardf)\n",
        "    del optgbr, optrfr, optsvr   \n",
        "    del X_train, X_test, y_train, y_test"
      ]
    },
    {
      "cell_type": "code",
      "execution_count": null,
      "metadata": {
        "id": "rP1HYJSX65YQ"
      },
      "outputs": [],
      "source": [
        "peardf.to_excel('RPearson_DF_fin_.xlsx')\n",
        "r2df.to_excel('R2_DF_fin_.xlsx')\n",
        "rmsedf.to_excel('RMSE_DF_fin_.xlsx')\n",
        "spmndf.to_excel('SpearmanCof_DF_fin_.xlsx')\n",
        "feaimpdf.to_excel('FeatureImpr_DF_fin_.xlsx')"
      ]
    },
    {
      "cell_type": "code",
      "execution_count": null,
      "metadata": {
        "id": "_iHBbewWOvZD"
      },
      "outputs": [],
      "source": [
        "(pd.DataFrame.from_dict(lin_dict_pred)).to_excel('LinReg_ypred-vs-ytest_.xlsx')\n",
        "(pd.DataFrame.from_dict(gbr_dict_pred)).to_excel('GBReg_ypred-vs-ytest_.xlsx')\n",
        "(pd.DataFrame.from_dict(svr_dict_pred)).to_excel('SVReg_ypred-vs-ytest_.xlsx')\n",
        "(pd.DataFrame.from_dict(rfr_dict_pred)).to_excel('RFReg_ypred-vs-ytest_.xlsx')"
      ]
    },
    {
      "cell_type": "code",
      "execution_count": null,
      "metadata": {
        "id": "Z0nantO8Y1TS"
      },
      "outputs": [],
      "source": []
    },
    {
      "cell_type": "code",
      "execution_count": null,
      "metadata": {
        "id": "XkZOJFds3lkn"
      },
      "outputs": [],
      "source": []
    }
  ],
  "metadata": {
    "colab": {
      "provenance": []
    },
    "kernelspec": {
      "display_name": "Python 3",
      "language": "python",
      "name": "python3"
    },
    "language_info": {
      "codemirror_mode": {
        "name": "ipython",
        "version": 3
      },
      "file_extension": ".py",
      "mimetype": "text/x-python",
      "name": "python",
      "nbconvert_exporter": "python",
      "pygments_lexer": "ipython3",
      "version": "3.7.3"
    }
  },
  "nbformat": 4,
  "nbformat_minor": 0
}